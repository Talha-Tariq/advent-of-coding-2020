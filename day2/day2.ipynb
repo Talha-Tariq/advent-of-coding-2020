{
 "cells": [
  {
   "cell_type": "code",
   "execution_count": 2,
   "metadata": {},
   "outputs": [],
   "source": [
    "# %reset"
   ]
  },
  {
   "cell_type": "code",
   "execution_count": 55,
   "metadata": {},
   "outputs": [],
   "source": [
    "import pandas as pd\n",
    "import numpy as np"
   ]
  },
  {
   "cell_type": "markdown",
   "metadata": {},
   "source": [
    "### Part One"
   ]
  },
  {
   "cell_type": "code",
   "execution_count": 8,
   "metadata": {},
   "outputs": [],
   "source": [
    "df = pd.read_csv('input.txt', header=None)"
   ]
  },
  {
   "cell_type": "code",
   "execution_count": 9,
   "metadata": {},
   "outputs": [
    {
     "data": {
      "text/html": [
       "<div>\n",
       "<style scoped>\n",
       "    .dataframe tbody tr th:only-of-type {\n",
       "        vertical-align: middle;\n",
       "    }\n",
       "\n",
       "    .dataframe tbody tr th {\n",
       "        vertical-align: top;\n",
       "    }\n",
       "\n",
       "    .dataframe thead th {\n",
       "        text-align: right;\n",
       "    }\n",
       "</style>\n",
       "<table border=\"1\" class=\"dataframe\">\n",
       "  <thead>\n",
       "    <tr style=\"text-align: right;\">\n",
       "      <th></th>\n",
       "      <th>0</th>\n",
       "    </tr>\n",
       "  </thead>\n",
       "  <tbody>\n",
       "    <tr>\n",
       "      <td>0</td>\n",
       "      <td>8-9 x: xxxxxxxrk</td>\n",
       "    </tr>\n",
       "    <tr>\n",
       "      <td>1</td>\n",
       "      <td>5-8 f: fxffmfff</td>\n",
       "    </tr>\n",
       "    <tr>\n",
       "      <td>2</td>\n",
       "      <td>2-5 c: ccspwpc</td>\n",
       "    </tr>\n",
       "    <tr>\n",
       "      <td>3</td>\n",
       "      <td>1-4 g: gggg</td>\n",
       "    </tr>\n",
       "    <tr>\n",
       "      <td>4</td>\n",
       "      <td>9-10 l: lllllllllk</td>\n",
       "    </tr>\n",
       "    <tr>\n",
       "      <td>...</td>\n",
       "      <td>...</td>\n",
       "    </tr>\n",
       "    <tr>\n",
       "      <td>995</td>\n",
       "      <td>1-3 p: pfppp</td>\n",
       "    </tr>\n",
       "    <tr>\n",
       "      <td>996</td>\n",
       "      <td>2-4 t: tttw</td>\n",
       "    </tr>\n",
       "    <tr>\n",
       "      <td>997</td>\n",
       "      <td>5-10 w: zzcwwwwwwkwwwqws</td>\n",
       "    </tr>\n",
       "    <tr>\n",
       "      <td>998</td>\n",
       "      <td>1-7 c: ccrmhdchwbr</td>\n",
       "    </tr>\n",
       "    <tr>\n",
       "      <td>999</td>\n",
       "      <td>7-11 g: xzgnggggrggrg</td>\n",
       "    </tr>\n",
       "  </tbody>\n",
       "</table>\n",
       "<p>1000 rows × 1 columns</p>\n",
       "</div>"
      ],
      "text/plain": [
       "                            0\n",
       "0            8-9 x: xxxxxxxrk\n",
       "1             5-8 f: fxffmfff\n",
       "2              2-5 c: ccspwpc\n",
       "3                 1-4 g: gggg\n",
       "4          9-10 l: lllllllllk\n",
       "..                        ...\n",
       "995              1-3 p: pfppp\n",
       "996               2-4 t: tttw\n",
       "997  5-10 w: zzcwwwwwwkwwwqws\n",
       "998        1-7 c: ccrmhdchwbr\n",
       "999     7-11 g: xzgnggggrggrg\n",
       "\n",
       "[1000 rows x 1 columns]"
      ]
     },
     "execution_count": 9,
     "metadata": {},
     "output_type": "execute_result"
    }
   ],
   "source": [
    "df"
   ]
  },
  {
   "cell_type": "code",
   "execution_count": 84,
   "metadata": {},
   "outputs": [
    {
     "name": "stdout",
     "output_type": "stream",
     "text": [
      "Number of valid passwords:  645\n"
     ]
    }
   ],
   "source": [
    "valid_counter = 0\n",
    "\n",
    "for i in range(df.size):\n",
    "    full_string = df[0][i]\n",
    "    split_string = full_string.split() \n",
    "    \n",
    "    min_num = int(split_string[0].split('-')[0])\n",
    "    max_num = int(split_string[0].split('-')[1])\n",
    "    letter = split_string[1][0]\n",
    "    password = split_string[2]\n",
    "    \n",
    "    if password.count(letter) >= min_num and password.count(letter) <= max_num:\n",
    "        valid_counter = valid_counter + 1\n",
    "\n",
    "print('Number of valid passwords: ', valid_counter)\n",
    "    "
   ]
  },
  {
   "cell_type": "markdown",
   "metadata": {},
   "source": [
    "### Part Two"
   ]
  },
  {
   "cell_type": "code",
   "execution_count": 87,
   "metadata": {},
   "outputs": [
    {
     "name": "stdout",
     "output_type": "stream",
     "text": [
      "Number of valid passwords:  737\n"
     ]
    }
   ],
   "source": [
    "valid_counter = 0\n",
    "\n",
    "for i in range(df.size):\n",
    "    full_string = df[0][i]\n",
    "    split_string = full_string.split() \n",
    "    \n",
    "    first_pos = int(split_string[0].split('-')[0]) - 1\n",
    "    second_pos = int(split_string[0].split('-')[1]) - 1\n",
    "    letter = split_string[1][0]\n",
    "    password = split_string[2]\n",
    "    \n",
    "    if password[first_pos] == letter and password[second_pos] != letter:\n",
    "        valid_counter = valid_counter + 1\n",
    "        continue\n",
    "    \n",
    "    if password[first_pos] != letter and password[second_pos] == letter:\n",
    "        valid_counter = valid_counter + 1\n",
    "    \n",
    "print('Number of valid passwords: ', valid_counter)"
   ]
  },
  {
   "cell_type": "code",
   "execution_count": null,
   "metadata": {},
   "outputs": [],
   "source": []
  }
 ],
 "metadata": {
  "kernelspec": {
   "display_name": "Python 3",
   "language": "python",
   "name": "python3"
  },
  "language_info": {
   "codemirror_mode": {
    "name": "ipython",
    "version": 3
   },
   "file_extension": ".py",
   "mimetype": "text/x-python",
   "name": "python",
   "nbconvert_exporter": "python",
   "pygments_lexer": "ipython3",
   "version": "3.7.4"
  }
 },
 "nbformat": 4,
 "nbformat_minor": 2
}

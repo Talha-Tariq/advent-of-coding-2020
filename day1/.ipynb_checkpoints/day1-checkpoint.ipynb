{
 "cells": [
  {
   "cell_type": "code",
   "execution_count": 130,
   "metadata": {},
   "outputs": [
    {
     "name": "stdout",
     "output_type": "stream",
     "text": [
      "Once deleted, variables cannot be recovered. Proceed (y/[n])? y\n"
     ]
    }
   ],
   "source": [
    "# %reset"
   ]
  },
  {
   "cell_type": "code",
   "execution_count": 132,
   "metadata": {},
   "outputs": [],
   "source": [
    "import numpy as np\n",
    "import pandas as pd"
   ]
  },
  {
   "cell_type": "code",
   "execution_count": 133,
   "metadata": {},
   "outputs": [],
   "source": [
    "df_input = pd.read_excel('input.xlsx', header=None)\n",
    "np_input = df_input.to_numpy()"
   ]
  },
  {
   "cell_type": "markdown",
   "metadata": {},
   "source": [
    "### Part One"
   ]
  },
  {
   "cell_type": "code",
   "execution_count": 143,
   "metadata": {},
   "outputs": [
    {
     "name": "stdout",
     "output_type": "stream",
     "text": [
      "value1 =  1535\n",
      "value2 =  485\n",
      "value1 times value2 =  744475\n"
     ]
    }
   ],
   "source": [
    "found = False\n",
    "\n",
    "for i in range(200):\n",
    "    for j in range(200):\n",
    "        if i == j:\n",
    "            continue\n",
    "            \n",
    "        if (np_input[i][0] + np_input[j][0]) == 2020:\n",
    "            value1 = np_input[i][0]\n",
    "            value2 = np_input[j][0]\n",
    "            found = True\n",
    "            break\n",
    "    \n",
    "    if found == True:\n",
    "        print(\"value1 = \", value1)\n",
    "        print(\"value2 = \", value2)\n",
    "        print(\"value1 times value2 = \", value1*value2)\n",
    "        break\n",
    "            \n",
    "        "
   ]
  },
  {
   "cell_type": "markdown",
   "metadata": {},
   "source": [
    "### Part Two"
   ]
  },
  {
   "cell_type": "code",
   "execution_count": 144,
   "metadata": {},
   "outputs": [
    {
     "name": "stdout",
     "output_type": "stream",
     "text": [
      "value1 =  265\n",
      "value2 =  167\n",
      "value3 =  1588\n",
      "value1 times value2 time value3 =  70276940\n"
     ]
    }
   ],
   "source": [
    "found = False\n",
    "\n",
    "for i in range(200):\n",
    "    for j in range(200):\n",
    "        if j == i:\n",
    "            continue\n",
    "        \n",
    "        for k in range(200):\n",
    "            if k == j:\n",
    "                continue\n",
    "\n",
    "            if (np_input[i][0] + np_input[j][0] + np_input[k][0]) == 2020:\n",
    "                value1 = np_input[i][0]\n",
    "                value2 = np_input[j][0]\n",
    "                value3 = np_input[k][0]\n",
    "                found = True\n",
    "                break\n",
    "                \n",
    "        if found == True:\n",
    "            break\n",
    "\n",
    "    if found == True:\n",
    "        print(\"value1 = \", value1)\n",
    "        print(\"value2 = \", value2)\n",
    "        print(\"value3 = \", value3)\n",
    "        print(\"value1 times value2 time value3 = \", value1*value2*value3)\n",
    "        break"
   ]
  },
  {
   "cell_type": "code",
   "execution_count": null,
   "metadata": {},
   "outputs": [],
   "source": []
  }
 ],
 "metadata": {
  "kernelspec": {
   "display_name": "Python 3",
   "language": "python",
   "name": "python3"
  },
  "language_info": {
   "codemirror_mode": {
    "name": "ipython",
    "version": 3
   },
   "file_extension": ".py",
   "mimetype": "text/x-python",
   "name": "python",
   "nbconvert_exporter": "python",
   "pygments_lexer": "ipython3",
   "version": "3.7.4"
  }
 },
 "nbformat": 4,
 "nbformat_minor": 2
}
